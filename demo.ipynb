{
 "cells": [
  {
   "cell_type": "code",
   "execution_count": null,
   "id": "6716e36e",
   "metadata": {},
   "outputs": [],
   "source": [
    "import numpy as np\n",
    "from basicnn.dataset import data_prep, load_data, load_labels\n",
    "from basicnn.neural import Network, ClassificationModel"
   ]
  },
  {
   "cell_type": "code",
   "execution_count": null,
   "id": "d6c455ed",
   "metadata": {},
   "outputs": [],
   "source": [
    "mnist_train_data = \"http://yann.lecun.com/exdb/mnist/train-images-idx3-ubyte.gz\"\n",
    "mnist_train_labels = \"http://yann.lecun.com/exdb/mnist/train-labels-idx1-ubyte.gz\"\n",
    "mnist_test_data = \"http://yann.lecun.com/exdb/mnist/t10k-images-idx3-ubyte.gz\"\n",
    "mnist_test_labels = \"http://yann.lecun.com/exdb/mnist/t10k-labels-idx1-ubyte.gz\"\n",
    "mnist_label_names = list(range(10))"
   ]
  },
  {
   "cell_type": "code",
   "execution_count": null,
   "id": "ecbb9c8c",
   "metadata": {},
   "outputs": [],
   "source": [
    "fashion_mnist_train_data = \"http://fashion-mnist.s3-website.eu-central-1.amazonaws.com/train-images-idx3-ubyte.gz\"\n",
    "fashion_mnist_train_labels = \"http://fashion-mnist.s3-website.eu-central-1.amazonaws.com/train-labels-idx1-ubyte.gz\"\n",
    "fashion_mnist_test_data = \"http://fashion-mnist.s3-website.eu-central-1.amazonaws.com/t10k-images-idx3-ubyte.gz\"\n",
    "fashion_mnist_test_labels = \"http://fashion-mnist.s3-website.eu-central-1.amazonaws.com/t10k-labels-idx1-ubyte.gz\"\n",
    "fashion_mnist_label_names = [\n",
    "    \"T-shirt/top\",\n",
    "    \"Trouser\",\n",
    "    \"Pullover\",\n",
    "    \"Dress\",\n",
    "    \"Coat\",\n",
    "    \"Sandal\",\n",
    "    \"Shirt\",\n",
    "    \"Sneaker\",\n",
    "    \"Bag\",\n",
    "    \"Ankle boot\",\n",
    "]"
   ]
  },
  {
   "cell_type": "code",
   "execution_count": null,
   "id": "a2c85428",
   "metadata": {},
   "outputs": [],
   "source": [
    "fashion_mnist_train_data_chksum = \"8d4fb7e6c68d591d4c3dfef9ec88bf0d\"\n",
    "fashion_mnist_train_labels_chksum = \"25c81989df183df01b3e8a0aad5dffbe\"\n",
    "fashion_mnist_test_data_chksum = \"bef4ecab320f06d8554ea6380940ec79\"\n",
    "fashion_mnist_test_labels_chksum = \"bb300cfdad3c16e7a12a480ee83cd310\""
   ]
  },
  {
   "cell_type": "code",
   "execution_count": null,
   "id": "aa5adbac",
   "metadata": {},
   "outputs": [],
   "source": [
    "train_data = load_data(data_prep(mnist_train_data))\n",
    "train_labels = load_labels(data_prep(mnist_train_labels))\n",
    "test_data = load_data(data_prep(mnist_test_data))\n",
    "test_labels = load_labels(data_prep(mnist_test_labels))"
   ]
  },
  {
   "cell_type": "code",
   "execution_count": null,
   "id": "0aed72a2",
   "metadata": {},
   "outputs": [],
   "source": [
    "train_data = train_data.reshape(np.shape(train_labels)[0], 784)\n",
    "test_data = test_data.reshape(np.shape(test_labels)[0], 784)\n",
    "np.shape(train_data)\n",
    "np.shape(test_data)"
   ]
  },
  {
   "cell_type": "code",
   "execution_count": null,
   "id": "ecdd25df",
   "metadata": {},
   "outputs": [],
   "source": [
    "in_layer_size = np.shape(train_data)[1]\n",
    "out_layer_size = 10"
   ]
  },
  {
   "cell_type": "code",
   "execution_count": null,
   "id": "4c3c49d6",
   "metadata": {},
   "outputs": [],
   "source": [
    "network_arch = [in_layer_size, 16, 16, out_layer_size]\n",
    "mnist_network = Network(network_arch)\n",
    "mnist_classifier = ClassificationModel(mnist_network, mnist_label_names)"
   ]
  },
  {
   "cell_type": "code",
   "execution_count": null,
   "id": "ee2b2d3f",
   "metadata": {},
   "outputs": [],
   "source": [
    "mnist_classifier.train(train_data, train_labels, 100, 5)"
   ]
  },
  {
   "cell_type": "code",
   "execution_count": null,
   "id": "c74932e8",
   "metadata": {},
   "outputs": [],
   "source": [
    "accuracy = mnist_classifier.test(test_data, test_labels)\n",
    "print(accuracy)"
   ]
  }
 ],
 "metadata": {
  "kernelspec": {
   "display_name": "Python 3 (ipykernel)",
   "language": "python",
   "name": "python3"
  },
  "language_info": {
   "codemirror_mode": {
    "name": "ipython",
    "version": 3
   },
   "file_extension": ".py",
   "mimetype": "text/x-python",
   "name": "python",
   "nbconvert_exporter": "python",
   "pygments_lexer": "ipython3",
   "version": "3.10.8"
  }
 },
 "nbformat": 4,
 "nbformat_minor": 5
}
